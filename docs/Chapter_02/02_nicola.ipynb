{
 "cells": [
  {
   "cell_type": "markdown",
   "metadata": {},
   "source": [
    "# Nicola\n",
    "\n",
    "## To Do"
   ]
  },
  {
   "cell_type": "code",
   "execution_count": 1,
   "metadata": {},
   "outputs": [
    {
     "data": {
      "text/html": [
       "<html><body><pre>ans = 'C:\\Users\\agode\\Flight_Dynamics_Book_Companion'</pre></body></html>"
      ],
      "text/plain": [
       "ans = 'C:\\Users\\agode\\Flight_Dynamics_Book_Companion'"
      ]
     },
     "execution_count": 1,
     "metadata": {},
     "output_type": "execute_result"
    }
   ],
   "source": [
    "pwd"
   ]
  },
  {
   "cell_type": "markdown",
   "metadata": {},
   "source": [
    "## Biologia\n",
    "\n",
    "To do.\n",
    "\n",
    "### Molecolare"
   ]
  },
  {
   "cell_type": "code",
   "execution_count": 3,
   "metadata": {},
   "outputs": [
    {
     "data": {
      "text/html": [
       "<html><body><pre>ans = 2x6 double\n",
       "    0.1291    0.8793    0.4955    0.5736    0.1518    0.1908\n",
       "    0.0385    0.2191    0.1059    0.7614    0.0088    0.8557\n",
       "</pre></body></html>"
      ],
      "text/plain": [
       "ans = 2x6 double\n",
       "    0.1291    0.8793    0.4955    0.5736    0.1518    0.1908\n",
       "    0.0385    0.2191    0.1059    0.7614    0.0088    0.8557\n"
      ]
     },
     "execution_count": 3,
     "metadata": {},
     "output_type": "execute_result"
    }
   ],
   "source": [
    "rand(2, 6)"
   ]
  }
 ],
 "metadata": {
  "kernelspec": {
   "display_name": "MATLAB Kernel",
   "language": "matlab",
   "name": "jupyter_matlab_kernel"
  },
  "language_info": {
   "file_extension": ".m",
   "mimetype": "text/x-matlab",
   "name": "matlab"
  }
 },
 "nbformat": 4,
 "nbformat_minor": 2
}
