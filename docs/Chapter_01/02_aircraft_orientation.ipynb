{
 "cells": [
  {
   "cell_type": "markdown",
   "metadata": {},
   "source": [
    "# Placing and orienting the aircraft orientation shape in the three-dimensional space\n",
    "\n",
    "The plan (TODO):\n",
    "\n",
    "* Use MATLAB to read a geometrical representation of aircraft external surface in STL (StereoLithography) format.<br/>\n",
    "  STL is a file format commonly used in 3D printing and computer-aided design (CAD) software. It represents the surface geometry of a 3D object using triangular facets. Each facet is defined by its normal vector and three vertices in 3D space. STL files can be used to store and exchange 3D models between various applications.\n",
    "* Use the provided function `loadAircraftSTL` that returns a triplet of matrices containing infos about shape's vertices, facets, and facets interconnections.\n",
    "* Plot the faceted shape of the aircraft in a 3D space with the function `patch` and display the two reference frames $\\mathcal{F}_\\mathrm{E}$ and $\\mathcal{F}_\\mathrm{B}$.\n",
    "* save the shape infos in a `.mat` file for later use.\n",
    "\n"
   ]
  },
  {
   "cell_type": "markdown",
   "metadata": {},
   "source": [
    "## Initialize MATLAB"
   ]
  },
  {
   "cell_type": "code",
   "execution_count": 5,
   "metadata": {},
   "outputs": [],
   "source": [
    "clearvars; close all; clc\n",
    "\n",
    "% make the functions in this work directory available to matlab\n",
    "current_dir = pwd;\n",
    "addpath(genpath(current_dir));\n",
    "\n",
    "% Set all interpreters to latex\n",
    "list_factory = fieldnames(get(groot,'factory'));\n",
    "index_interpreter = find(contains(list_factory,'Interpreter'));\n",
    "for i = 1:length(index_interpreter)\n",
    "    default_name = strrep(list_factory{index_interpreter(i)},'factory','default');\n",
    "    set(groot, default_name,'latex');\n",
    "end"
   ]
  },
  {
   "cell_type": "markdown",
   "metadata": {},
   "source": [
    "## Load a 3D model"
   ]
  },
  {
   "cell_type": "code",
   "execution_count": 6,
   "metadata": {},
   "outputs": [
    {
     "name": "stdout",
     "output_type": "stream",
     "text": [
      "Displaying aircraft shape struct...\n"
     ]
    },
    {
     "data": {
      "text/html": [
       "<html><body><pre>shape = struct with fields:\n",
       "    V: [12495x3 double]\n",
       "    F: [4165x3 double]\n",
       "    C: [12495x1 double]\n",
       "</pre></body></html>"
      ],
      "text/plain": [
       "shape = struct with fields:\n",
       "    V: [12495x3 double]\n",
       "    F: [4165x3 double]\n",
       "    C: [12495x1 double]\n"
      ]
     },
     "execution_count": 6,
     "metadata": {},
     "output_type": "execute_result"
    }
   ],
   "source": [
    "% use this factor to scale the shape\n",
    "shapeScaleFactor = 1.0;\n",
    "\n",
    "% Load shape from .mat file\n",
    "shape = loadAircraftMAT('aircraft_pa24-250.mat', shapeScaleFactor);\n",
    "\n",
    "% Display shape\n",
    "fprintf('Displaying aircraft shape struct...\\n');\n",
    "shape"
   ]
  },
  {
   "cell_type": "markdown",
   "metadata": {},
   "source": [
    "## Display the shape object with body axes"
   ]
  },
  {
   "cell_type": "code",
   "execution_count": 7,
   "metadata": {},
   "outputs": [
    {
     "data": {
      "image/png": "[encoded data removed]"
     },
     "execution_count": 7,
     "metadata": {},
     "output_type": "execute_result"
    }
   ],
   "source": [
    "h_fig1 = figure(1);\n",
    "\n",
    "grid on;\n",
    "hold on;\n",
    "light('Position',[1 0 -2],'Style','local');\n",
    "\n",
    "% Trick to have Ze pointing downward and correct visualization\n",
    "set(gca,'XDir','reverse');\n",
    "set(gca,'ZDir','reverse');h_fig1 = figure(1);\n",
    "\n",
    "%% Load aircraft shape\n",
    "shapeScaleFactor = 1.0;\n",
    "shape = loadAircraftMAT('aircraft_pa24-250.mat', shapeScaleFactor);\n",
    "\n",
    "%% Set the aircraft in place\n",
    "% Posision in Earth axes\n",
    "vXYZe = [2,2,-2];\n",
    "% psi, theta, phi -> 'ZYX'\n",
    "vEulerAngles = convang([20,10,0],'deg','rad');\n",
    "% Observer point-of-view\n",
    "theView = [105 15];\n",
    "% body axes settings\n",
    "bodyAxesOptions.show = true;\n",
    "bodyAxesOptions.magX = 2.0;\n",
    "bodyAxesOptions.magY = 2.0;\n",
    "bodyAxesOptions.magZ = 2.0;\n",
    "bodyAxesOptions.lineWidth = 2.5;\n",
    "plotBodyE(h_fig1, shape, vXYZe, vEulerAngles, bodyAxesOptions, theView);\n",
    "\n",
    "%% Plot Earth axes\n",
    "hold on;\n",
    "xMax = max([abs(vXYZe(1)),5]);\n",
    "yMax = max([abs(vXYZe(2)),5]);\n",
    "zMax = 0.3*xMax; % max([abs(max(vXYZe(1))),0.18*xMax]);\n",
    "vXYZ0 = [0,0,0];\n",
    "vExtent = [xMax,yMax,zMax];\n",
    "plotEarthAxes(h_fig1, vXYZ0, vExtent);\n",
    "\n",
    "%% draw CoG coordinate helper lines\n",
    "hold on;\n",
    "helperLinesOptions.lineColor = 'k';\n",
    "helperLinesOptions.lineWidth = 1.5;\n",
    "helperLinesOptions.lineStyle = ':';\n",
    "plotPoint3DHelperLines(h_fig1, vXYZe, helperLinesOptions);\n",
    "\n",
    "xlabel('$x_E$'); ylabel('$y_E$'); zlabel('$z_E$');\n"
   ]
  }
 ],
 "metadata": {
  "kernelspec": {
   "display_name": "MATLAB Kernel",
   "language": "matlab",
   "name": "jupyter_matlab_kernel"
  },
  "language_info": {
   "file_extension": ".m",
   "mimetype": "text/x-matlab",
   "name": "matlab"
  }
 },
 "nbformat": 4,
 "nbformat_minor": 2
}
