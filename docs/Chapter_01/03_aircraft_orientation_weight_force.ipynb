{
 "cells": [
  {
   "cell_type": "markdown",
   "metadata": {},
   "source": [
    "# Representing the aircraft solind and its weight force vector\n",
    "\n",
    "The plan:\n",
    "\n",
    "* Read a `struct` variable representing the aircraft external surface.<br/>\n",
    "  Use the provided function `loadAircraftMAT`.\n",
    "* Plot the faceted shape of the aircraft in a 3D space with the function `patch` and display the two reference frames $\\mathcal{F}_\\mathrm{E}$ and $\\mathcal{F}_\\mathrm{B}$.\n",
    "* Plot the weight force vector and its components along the body axes, $\\mathcal{F}_\\mathrm{B}$."
   ]
  },
  {
   "cell_type": "markdown",
   "metadata": {},
   "source": [
    "## Initialize MATLAB"
   ]
  },
  {
   "cell_type": "code",
   "execution_count": 1,
   "metadata": {},
   "outputs": [],
   "source": [
    "clearvars; close all; clc\n",
    "\n",
    "% make the functions in this work directory available to matlab\n",
    "current_dir = pwd;\n",
    "addpath(genpath(current_dir));\n",
    "\n",
    "% Set all interpreters to latex\n",
    "list_factory = fieldnames(get(groot,'factory'));\n",
    "index_interpreter = find(contains(list_factory,'Interpreter'));\n",
    "for i = 1:length(index_interpreter)\n",
    "    default_name = strrep(list_factory{index_interpreter(i)},'factory','default');\n",
    "    set(groot, default_name,'latex');\n",
    "end"
   ]
  },
  {
   "cell_type": "markdown",
   "metadata": {},
   "source": [
    "## Load the 3D model"
   ]
  },
  {
   "cell_type": "code",
   "execution_count": 2,
   "metadata": {},
   "outputs": [],
   "source": [
    "%% Load aircraft shape\n",
    "shapeScaleFactor = 1.0;\n",
    "shape = loadAircraftMAT('aircraft_pa24-250.mat', shapeScaleFactor);"
   ]
  },
  {
   "cell_type": "markdown",
   "metadata": {},
   "source": [
    "## Draw the shapes\n",
    "\n",
    "See:\n",
    "\n",
    "* [function plotBodyE.m](https://github.com/agodemar/Flight_Dynamics_Book_Companion/blob/main/docs/Chapter_01/plotBodyE.m)\n",
    "* [function plotEarthAxes.m](https://github.com/agodemar/Flight_Dynamics_Book_Companion/blob/main/docs/Chapter_01/plotEarthAxes.m)\n",
    "* [function plotPoint3DHelperLines.m](https://github.com/agodemar/Flight_Dynamics_Book_Companion/blob/main/docs/Chapter_01/plotPoint3DHelperLines.m)"
   ]
  },
  {
   "cell_type": "code",
   "execution_count": 3,
   "metadata": {},
   "outputs": [
    {
     "data": {
      "image/png": "[encoded data removed]"
     },
     "execution_count": 3,
     "metadata": {},
     "output_type": "execute_result"
    },
    {
     "data": {
      "text/html": [
       "<html><body><pre>Tbe = 3x3 double\n",
       "    0.9254    0.3368   -0.1736\n",
       "   -0.3420    0.9397         0\n",
       "    0.1632    0.0594    0.9848\n",
       "</pre></body></html>"
      ],
      "text/plain": [
       "Tbe = 3x3 double\n",
       "    0.9254    0.3368   -0.1736\n",
       "   -0.3420    0.9397         0\n",
       "    0.1632    0.0594    0.9848\n"
      ]
     },
     "execution_count": 3,
     "metadata": {},
     "output_type": "execute_result"
    },
    {
     "data": {
      "text/html": [
       "<html><body><pre>vWeight_E = 3x1 double\n",
       "           0\n",
       "           0\n",
       "       11772\n",
       "</pre></body></html>"
      ],
      "text/plain": [
       "vWeight_E = 3x1 double\n",
       "           0\n",
       "           0\n",
       "       11772\n"
      ]
     },
     "execution_count": 3,
     "metadata": {},
     "output_type": "execute_result"
    },
    {
     "data": {
      "text/html": [
       "<html><body><pre>vWeight_B = 3x1 double\n",
       "1.0e+04 *\n",
       "\n",
       "   -0.2044\n",
       "         0\n",
       "    1.1593\n",
       "</pre></body></html>"
      ],
      "text/plain": [
       "vWeight_B = 3x1 double\n",
       "1.0e+04 *\n",
       "\n",
       "   -0.2044\n",
       "         0\n",
       "    1.1593\n"
      ]
     },
     "execution_count": 3,
     "metadata": {},
     "output_type": "execute_result"
    }
   ],
   "source": [
    "%% Setup the figure/scene\n",
    "h_fig1 = figure(1);\n",
    "\n",
    "grid on;\n",
    "hold on;\n",
    "light('Position',[1 0 -2],'Style','local');\n",
    "% Trick to have Ze pointing downward and correct visualization\n",
    "set(gca,'XDir','reverse');\n",
    "set(gca,'ZDir','reverse');\n",
    "\n",
    "%% Set the aircraft in place\n",
    "% Posision in Earth axes\n",
    "vXYZe = [1,1,-2];\n",
    "% psi, theta, phi -> 'ZYX'\n",
    "vEulerAngles = convang([20,10,0],'deg','rad');\n",
    "% Observer point-of-view\n",
    "theView = [105 15];\n",
    "% body axes settings\n",
    "bodyAxesOptions.show = true;\n",
    "bodyAxesOptions.magX = 1.5;\n",
    "bodyAxesOptions.magY = 2.0;\n",
    "bodyAxesOptions.magZ = 2.0;\n",
    "bodyAxesOptions.lineWidth = 2.5;\n",
    "plotBodyE(h_fig1, shape, vXYZe, vEulerAngles, bodyAxesOptions, theView);\n",
    "\n",
    "%% Plot Earth axes\n",
    "hold on;\n",
    "xMax = 2; % max([abs(vXYZe(1)),5]);\n",
    "yMax = 2; % max([abs(vXYZe(2)),5]);\n",
    "zMax = 0.2*xMax; % max([abs(max(vXYZe(1))),0.18*xMax]);\n",
    "vXYZ0 = [0,0,0];\n",
    "vExtent = [xMax,yMax,zMax];\n",
    "plotEarthAxes(h_fig1, vXYZ0, vExtent);\n",
    "\n",
    "%% draw CoG coordinate helper lines\n",
    "hold on;\n",
    "helperLinesOptions.lineColor = 'k';\n",
    "helperLinesOptions.lineWidth = 1.5;\n",
    "helperLinesOptions.lineStyle = ':';\n",
    "plotPoint3DHelperLines(h_fig1, vXYZe, helperLinesOptions);\n",
    "\n",
    "%% Mass data\n",
    "mass = 1200.0; % kg\n",
    "g = 9.81; % m/s^2\n",
    "\n",
    "%% Euler angles\n",
    "psi   = vEulerAngles(1);\n",
    "theta = vEulerAngles(2);\n",
    "phi   = vEulerAngles(3);\n",
    "\n",
    "%% DCM \n",
    "% Transf. matrix from Earth- to body-axes \n",
    "Tbe = angle2dcm(psi, theta, phi, 'ZYX')\n",
    "Teb = Tbe';\n",
    "vWeight_E = [0;0;mass*g] % N\n",
    "vWeight_B = Tbe*vWeight_E\n",
    "\n",
    "%% Draw Weight pointing downward\n",
    "hold on\n",
    "scale_weight = 0.0001;\n",
    "weightVecMag = scale_weight*mass*g;\n",
    "quiver3( ...\n",
    "    vXYZe(1),vXYZe(2),vXYZe(3), ...\n",
    "    0, 0, weightVecMag, ...\n",
    "    'AutoScale', 'off', 'Color', [1 0 1], ... % weight vector in magenta\n",
    "    'LineWidth', 2.5 ...\n",
    ");\n",
    "\n",
    "%% Vector W_XB * i_B\n",
    "% application point along z_B\n",
    "pWZB_B = scale_weight.*[0;0;vWeight_B(3)];\n",
    "pWZB_E = vXYZe' + Teb*pWZB_B;\n",
    "% Vector W_XB * i_B (body-components)\n",
    "vWeight_XB_B = scale_weight.*[vWeight_B(1);0;0];\n",
    "% Vector W_XB * i_B (Earth-components)\n",
    "vWeight_XB_E = Teb*vWeight_XB_B;\n",
    "quiver3( ...\n",
    "    pWZB_E(1), pWZB_E(2), pWZB_E(3), ...\n",
    "    vWeight_XB_E(1), vWeight_XB_E(2), vWeight_XB_E(3), ...\n",
    "    'AutoScale', 'off', 'Color', [0 1 1], ... % vector W_XB*i_B in cyan\n",
    "    'LineWidth', 2.0, ...\n",
    "    'MaxHeadSize', 4.0 ...\n",
    ");"
   ]
  }
 ],
 "metadata": {
  "kernelspec": {
   "display_name": "MATLAB Kernel",
   "language": "matlab",
   "name": "jupyter_matlab_kernel"
  },
  "language_info": {
   "file_extension": ".m",
   "mimetype": "text/x-matlab",
   "name": "matlab"
  }
 },
 "nbformat": 4,
 "nbformat_minor": 2
}
