{
 "cells": [
  {
   "cell_type": "markdown",
   "metadata": {},
   "source": [
    "# Loading the aircraft shape and placing it into the 3D scene\n",
    "\n",
    "The plan:\n",
    "\n",
    "* Use MATLAB to read a geometrical representation of aircraft external surface in STL (StereoLithography) format.<br/>\n",
    "  STL is a file format commonly used in 3D printing and computer-aided design (CAD) software. It represents the surface geometry of a 3D object using triangular facets. Each facet is defined by its normal vector and three vertices in 3D space. STL files can be used to store and exchange 3D models between various applications.\n",
    "* Use the provided function `loadAircraftSTL` that returns a triplet of matrices containing infos about shape's vertices, facets, and facets interconnections.\n",
    "* Save the shape infos in a `.mat` file for later use.\n",
    "* The geometry is defined in such a way that the aircraft CG is located at the origin $O_\\mathrm{E}$ of the Earth frame $\\mathcal{F}_\\mathrm{E}$, and with body axes aligned with Earth axes ($\\psi=\\theta=\\phi=0$).\n",
    "* Plot the faceted shape of the aircraft in a 3D space with the function `patch` and display the reference frame $\\mathcal{F}_\\mathrm{B}$.\n"
   ]
  },
  {
   "cell_type": "markdown",
   "metadata": {},
   "source": [
    "## Initialize MATLAB"
   ]
  },
  {
   "cell_type": "code",
   "execution_count": 39,
   "metadata": {},
   "outputs": [],
   "source": [
    "clearvars; close all; clc\n",
    "\n",
    "% Make the functions in this work directory available to matlab\n",
    "current_dir = pwd;\n",
    "addpath(genpath(current_dir));\n",
    "\n",
    "% Set all interpreters to latex\n",
    "list_factory = fieldnames(get(groot,'factory'));\n",
    "index_interpreter = find(contains(list_factory,'Interpreter'));\n",
    "for i = 1:length(index_interpreter)\n",
    "    default_name = strrep(list_factory{index_interpreter(i)},'factory','default');\n",
    "    set(groot, default_name,'latex');\n",
    "end"
   ]
  },
  {
   "cell_type": "markdown",
   "metadata": {},
   "source": [
    "## Load a 3D model with `loadAircraftSTL`"
   ]
  },
  {
   "cell_type": "code",
   "execution_count": 40,
   "metadata": {},
   "outputs": [
    {
     "name": "stdout",
     "output_type": "stream",
     "text": [
      "Reading vertex num: 250.\n",
      "Reading vertex num: 500.\n",
      "Reading vertex num: 750.\n",
      "Reading vertex num: 1000.\n",
      "Reading vertex num: 1250.\n",
      "Reading vertex num: 1500.\n",
      "Reading vertex num: 1750.\n",
      "Reading vertex num: 2000.\n",
      "Reading vertex num: 2250.\n",
      "Reading vertex num: 2500.\n",
      "Reading vertex num: 2750.\n",
      "Reading vertex num: 3000.\n",
      "Reading vertex num: 3250.\n",
      "Reading vertex num: 3500.\n",
      "Reading vertex num: 3750.\n",
      "Reading vertex num: 4000.\n",
      "Reading vertex num: 4250.\n",
      "Reading vertex num: 4500.\n",
      "Reading vertex num: 4750.\n",
      "Reading vertex num: 5000.\n",
      "Reading vertex num: 5250.\n",
      "Reading vertex num: 5500.\n",
      "Reading vertex num: 5750.\n",
      "Reading vertex num: 6000.\n",
      "Reading vertex num: 6250.\n",
      "Reading vertex num: 6500.\n",
      "Reading vertex num: 6750.\n",
      "Reading vertex num: 7000.\n",
      "Reading vertex num: 7250.\n",
      "Reading vertex num: 7500.\n",
      "Reading vertex num: 7750.\n",
      "Reading vertex num: 8000.\n",
      "Reading vertex num: 8250.\n",
      "Reading vertex num: 8500.\n",
      "Reading vertex num: 8750.\n",
      "Reading vertex num: 9000.\n",
      "Reading vertex num: 9250.\n",
      "Reading vertex num: 9500.\n",
      "Reading vertex num: 9750.\n",
      "Reading vertex num: 10000.\n",
      "Reading vertex num: 10250.\n",
      "Reading vertex num: 10500.\n",
      "Reading vertex num: 10750.\n",
      "Reading vertex num: 11000.\n",
      "Reading vertex num: 11250.\n",
      "Reading vertex num: 11500.\n",
      "Reading vertex num: 11750.\n",
      "Reading vertex num: 12000.\n",
      "Reading vertex num: 12250.\n",
      "Displaying aircraft shape struct...\n"
     ]
    },
    {
     "data": {
      "text/html": [
       "<html><body><pre>shape = struct with fields:\n",
       "    V: [12495x3 double]\n",
       "    F: [4165x3 double]\n",
       "    C: [12495x1 double]\n",
       "</pre></body></html>"
      ],
      "text/plain": [
       "shape = struct with fields:\n",
       "    V: [12495x3 double]\n",
       "    F: [4165x3 double]\n",
       "    C: [12495x1 double]\n"
      ]
     },
     "execution_count": 40,
     "metadata": {},
     "output_type": "execute_result"
    }
   ],
   "source": [
    "% Use this factor to scale the shape\n",
    "shapeScaleFactor = 1.0;\n",
    "\n",
    "% Load shape from .stl file\n",
    "[V, F, C] = loadAircraftSTL('aircraft_pa24-250.stl', shapeScaleFactor);\n",
    "\n",
    "% Create shape struct\n",
    "shape.V = V; shape.F = F; shape.C = C;\n",
    "\n",
    "% Display shape\n",
    "fprintf('Displaying aircraft shape struct...\\n');\n",
    "shape"
   ]
  },
  {
   "cell_type": "markdown",
   "metadata": {},
   "source": [
    "## Save a variable `shape` as a MATLAB `struct` in a `.mat` file"
   ]
  },
  {
   "cell_type": "code",
   "execution_count": 41,
   "metadata": {},
   "outputs": [],
   "source": [
    "save('aircraft_pa24-250.mat', 'shape');"
   ]
  },
  {
   "cell_type": "markdown",
   "metadata": {},
   "source": [
    "## Display the body axes"
   ]
  },
  {
   "cell_type": "code",
   "execution_count": 42,
   "metadata": {},
   "outputs": [
    {
     "data": {
      "image/png": "[encoded data removed]"
     },
     "execution_count": 42,
     "metadata": {},
     "output_type": "execute_result"
    }
   ],
   "source": [
    "%% Setup the figure/scene\n",
    "figure(1);\n",
    "\n",
    "hold on;\n",
    "\n",
    "% Trick to have Ze pointing downward and correct visualization\n",
    "set(gca,'XDir','reverse');\n",
    "set(gca,'ZDir','reverse');\n",
    "\n",
    "light('Position',[1 0 -2],'Style','local');\n",
    "theView = [-125 30];\n",
    "view(theView);\n",
    "\n",
    "% Axis ranges\n",
    "xMax = 1.8*max(abs(shape.V(:,1)));\n",
    "yMax = 1.8*max(abs(shape.V(:,2)));\n",
    "zMax = 0.5*xMax;\n",
    "\n",
    "% XB-axis\n",
    "quiver3( 0,0,0, xMax,0,0, ...\n",
    "    'r','linewidth',2.5 ...\n",
    "); hold on;\n",
    "\n",
    "% YB-axis\n",
    "quiver3( 0,0,0, 0,yMax,0, ...\n",
    "    'g','linewidth',2.5 ...\n",
    "); hold on;\n",
    "\n",
    "% ZB-axis\n",
    "quiver3( 0,0,0, 0,0,zMax, ...\n",
    "    'b','linewidth',2.5 ...\n",
    ");\n",
    "\n",
    "xlabel('$x_B$'); ylabel('$y_B$'); zlabel('$z_B$');\n",
    "grid on; \n",
    "axis equal;\n",
    "hold off"
   ]
  },
  {
   "cell_type": "markdown",
   "metadata": {},
   "source": [
    "## Display the body axes and the aircraft external shape"
   ]
  },
  {
   "cell_type": "code",
   "execution_count": 43,
   "metadata": {},
   "outputs": [
    {
     "data": {
      "image/png": "[encoded data removed]"
     },
     "execution_count": 43,
     "metadata": {},
     "output_type": "execute_result"
    }
   ],
   "source": [
    "figure(2);\n",
    "\n",
    "hold on;\n",
    "\n",
    "% Trick to have Ze pointing downward and correct visualization\n",
    "set(gca,'XDir','reverse');\n",
    "set(gca,'ZDir','reverse');\n",
    "\n",
    "light('Position',[1 0 -2],'Style','local');\n",
    "theView = [-125 30];\n",
    "view(theView);\n",
    "\n",
    "p = patch('faces', shape.F, 'vertices' ,shape.V);\n",
    "set(p, 'facec', [1 0 0]);          \n",
    "set(p, 'EdgeColor','none');\n",
    "lighting phong;\n",
    "axis equal;\n",
    "grid on; \n",
    "\n",
    "% Axis ranges\n",
    "xMax = 1.8*max(abs(shape.V(:,1)));\n",
    "yMax = 1.8*max(abs(shape.V(:,2)));\n",
    "zMax = 0.5*xMax;\n",
    "\n",
    "% XB-axis\n",
    "quiver3( 0,0,0, xMax,0,0, 'r','linewidth',2.5)\n",
    "% YB-axis\n",
    "quiver3( 0,0,0, 0,yMax,0, 'g','linewidth',2.5)\n",
    "% ZB-axis\n",
    "quiver3( 0,0,0, 0,0,zMax, 'b','linewidth',2.5)\n",
    "\n",
    "xlabel('$x_B$'); ylabel('$y_B$'); zlabel('$z_B$');\n",
    "\n",
    "hold off"
   ]
  }
 ],
 "metadata": {
  "kernelspec": {
   "display_name": "MATLAB Kernel",
   "language": "matlab",
   "name": "jupyter_matlab_kernel"
  },
  "language_info": {
   "file_extension": ".m",
   "mimetype": "text/x-matlab",
   "name": "matlab"
  }
 },
 "nbformat": 4,
 "nbformat_minor": 2
}
